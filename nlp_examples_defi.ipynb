{
 "cells": [
  {
   "cell_type": "code",
   "execution_count": 1,
   "metadata": {},
   "outputs": [],
   "source": [
    "from nltk.corpus import wordnet\n",
    "import time"
   ]
  },
  {
   "cell_type": "code",
   "execution_count": 2,
   "metadata": {},
   "outputs": [],
   "source": [
    "ws=wordnet.synsets('work') # lemma word pass"
   ]
  },
  {
   "cell_type": "code",
   "execution_count": 3,
   "metadata": {},
   "outputs": [
    {
     "data": {
      "text/plain": [
       "34"
      ]
     },
     "execution_count": 3,
     "metadata": {},
     "output_type": "execute_result"
    }
   ],
   "source": [
    "len(ws)"
   ]
  },
  {
   "cell_type": "code",
   "execution_count": 4,
   "metadata": {},
   "outputs": [
    {
     "data": {
      "text/plain": [
       "'activity directed toward making or doing something'"
      ]
     },
     "execution_count": 4,
     "metadata": {},
     "output_type": "execute_result"
    }
   ],
   "source": [
    "ws[0].definition()"
   ]
  },
  {
   "cell_type": "code",
   "execution_count": 5,
   "metadata": {},
   "outputs": [
    {
     "data": {
      "text/plain": [
       "'the occupation for which you are paid'"
      ]
     },
     "execution_count": 5,
     "metadata": {},
     "output_type": "execute_result"
    }
   ],
   "source": [
    "ws[2].definition()"
   ]
  },
  {
   "cell_type": "code",
   "execution_count": 6,
   "metadata": {},
   "outputs": [
    {
     "data": {
      "text/plain": [
       "'perform as expected when applied'"
      ]
     },
     "execution_count": 6,
     "metadata": {},
     "output_type": "execute_result"
    }
   ],
   "source": [
    "ws[10].definition()"
   ]
  },
  {
   "cell_type": "code",
   "execution_count": 7,
   "metadata": {},
   "outputs": [
    {
     "data": {
      "text/plain": [
       "['it is not regarded as one of his more memorable works',\n",
       " 'the symphony was hailed as an ingenious work',\n",
       " 'he was indebted to the pioneering work of John Dewey',\n",
       " 'the work of an active imagination',\n",
       " 'erosion is the work of wind or water over time']"
      ]
     },
     "execution_count": 7,
     "metadata": {},
     "output_type": "execute_result"
    }
   ],
   "source": [
    "ws[1].examples()"
   ]
  },
  {
   "cell_type": "code",
   "execution_count": 14,
   "metadata": {},
   "outputs": [
    {
     "name": "stdout",
     "output_type": "stream",
     "text": [
      "enter your keyword you want to know about..>life\n",
      "a characteristic state or mode of living\n",
      "...............\n",
      "['social life', 'city life', 'real life']\n",
      "the experience of being alive; the course of human events and activities\n",
      "...............\n",
      "['he could no longer cope with the complexities of life']\n",
      "the course of existence of an individual; the actions and events that occur in living\n",
      "...............\n",
      "['he hoped for a new life in Australia', 'he wanted to live his own life without interference from others']\n",
      "the condition of living or the state of being alive\n",
      "...............\n",
      "[\"while there's life there's hope\", 'life depends on many chemical and physical processes']\n",
      "the period during which something is functional (as between birth and death)\n",
      "...............\n",
      "['the battery had a short life', 'he lived a long and happy life']\n",
      "the period between birth and the present time\n",
      "...............\n",
      "['I have known him all his life']\n",
      "the period from the present until death\n",
      "...............\n",
      "['he appointed himself emperor for life']\n",
      "a living person\n",
      "...............\n",
      "['his heroism saved a life']\n",
      "animation and energy in action or expression\n",
      "...............\n",
      "['it was a heavy play and the actors tried in vain to give life to it']\n",
      "living things collectively\n",
      "...............\n",
      "['the oceans are teeming with life']\n",
      "the organic phenomenon that distinguishes living organisms from nonliving ones\n",
      "...............\n",
      "['there is no life on the moon']\n",
      "an account of the series of events making up a person's life\n",
      "...............\n",
      "[]\n",
      "a motive for living\n",
      "...............\n",
      "['pottery was his life']\n",
      "a prison term lasting as long as the prisoner lives\n",
      "...............\n",
      "['he got life for killing the guard']\n"
     ]
    }
   ],
   "source": [
    "# exploring all the books\n",
    "msg=input(\"enter your keyword you want to know about..>\")\n",
    "for i in wordnet.synsets(msg): # this will explore all books according to stanford univ.\n",
    "    print(i.definition())\n",
    "    print(\"...............\")\n",
    "    print(i.examples())\n",
    "    time.sleep(5)"
   ]
  },
  {
   "cell_type": "code",
   "execution_count": null,
   "metadata": {},
   "outputs": [],
   "source": []
  }
 ],
 "metadata": {
  "kernelspec": {
   "display_name": "Python 3",
   "language": "python",
   "name": "python3"
  },
  "language_info": {
   "codemirror_mode": {
    "name": "ipython",
    "version": 3
   },
   "file_extension": ".py",
   "mimetype": "text/x-python",
   "name": "python",
   "nbconvert_exporter": "python",
   "pygments_lexer": "ipython3",
   "version": "3.6.8"
  }
 },
 "nbformat": 4,
 "nbformat_minor": 2
}
