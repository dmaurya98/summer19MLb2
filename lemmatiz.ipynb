{
  "nbformat": 4,
  "nbformat_minor": 0,
  "metadata": {
    "colab": {
      "name": "lemmatiz.ipynb",
      "version": "0.3.2",
      "provenance": []
    },
    "kernelspec": {
      "name": "python3",
      "display_name": "Python 3"
    }
  },
  "cells": [
    {
      "cell_type": "code",
      "metadata": {
        "id": "uWbIfJ_Ue5SP",
        "colab_type": "code",
        "colab": {}
      },
      "source": [
        "import spacy"
      ],
      "execution_count": 0,
      "outputs": []
    },
    {
      "cell_type": "code",
      "metadata": {
        "id": "eHSPDsvmfC0c",
        "colab_type": "code",
        "colab": {}
      },
      "source": [
        "nlp=spacy.load('en') # language en.."
      ],
      "execution_count": 0,
      "outputs": []
    },
    {
      "cell_type": "code",
      "metadata": {
        "id": "BPCr6uAsfLUR",
        "colab_type": "code",
        "colab": {}
      },
      "source": [
        "data='hello guys what is the plan today'"
      ],
      "execution_count": 0,
      "outputs": []
    },
    {
      "cell_type": "code",
      "metadata": {
        "id": "7wQkUhSvfQZg",
        "colab_type": "code",
        "colab": {}
      },
      "source": [
        "new_data=nlp(data) # automatic tokenize"
      ],
      "execution_count": 0,
      "outputs": []
    },
    {
      "cell_type": "code",
      "metadata": {
        "id": "vj6SzqVKfSy5",
        "colab_type": "code",
        "colab": {
          "base_uri": "https://localhost:8080/",
          "height": 382
        },
        "outputId": "83be19e5-a9d0-4c8f-bfb7-5f2d2e12ddb9"
      },
      "source": [
        "for i in new_data:\n",
        "  print(i,\"lemmatization of word is -->\",i.lemma_)\n",
        "  print(\"######################\")\n",
        "  print(i,\"POS\",i.pos)"
      ],
      "execution_count": 12,
      "outputs": [
        {
          "output_type": "stream",
          "text": [
            "hello lemmatization of word is --> hello\n",
            "######################\n",
            "hello POS 91\n",
            "guys lemmatization of word is --> guy\n",
            "######################\n",
            "guys POS 92\n",
            "what lemmatization of word is --> what\n",
            "######################\n",
            "what POS 95\n",
            "is lemmatization of word is --> be\n",
            "######################\n",
            "is POS 100\n",
            "the lemmatization of word is --> the\n",
            "######################\n",
            "the POS 90\n",
            "plan lemmatization of word is --> plan\n",
            "######################\n",
            "plan POS 92\n",
            "today lemmatization of word is --> today\n",
            "######################\n",
            "today POS 92\n"
          ],
          "name": "stdout"
        }
      ]
    },
    {
      "cell_type": "code",
      "metadata": {
        "id": "aYakq_3ZfbIJ",
        "colab_type": "code",
        "colab": {}
      },
      "source": [
        ""
      ],
      "execution_count": 0,
      "outputs": []
    }
  ]
}