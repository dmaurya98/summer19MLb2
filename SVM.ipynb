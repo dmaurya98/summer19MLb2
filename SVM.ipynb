{
 "cells": [
  {
   "cell_type": "code",
   "execution_count": 1,
   "metadata": {},
   "outputs": [],
   "source": [
    "from sklearn.datasets  import load_digits"
   ]
  },
  {
   "cell_type": "code",
   "execution_count": 2,
   "metadata": {},
   "outputs": [],
   "source": [
    "# loading digits data\n",
    "digit=load_digits()"
   ]
  },
  {
   "cell_type": "code",
   "execution_count": 3,
   "metadata": {},
   "outputs": [
    {
     "data": {
      "text/plain": [
       "['DESCR', 'data', 'images', 'target', 'target_names']"
      ]
     },
     "execution_count": 3,
     "metadata": {},
     "output_type": "execute_result"
    }
   ],
   "source": [
    "# desc\n",
    "dir(digit)"
   ]
  },
  {
   "cell_type": "code",
   "execution_count": 4,
   "metadata": {},
   "outputs": [],
   "source": [
    "# features\n",
    "features=digit.data"
   ]
  },
  {
   "cell_type": "code",
   "execution_count": 5,
   "metadata": {},
   "outputs": [],
   "source": [
    "# label\n",
    "label=digit.target"
   ]
  },
  {
   "cell_type": "code",
   "execution_count": 6,
   "metadata": {},
   "outputs": [],
   "source": [
    "# training and testing\n",
    "from sklearn.model_selection  import  train_test_split\n",
    "X,x,Y,y=train_test_split(features,label,test_size=0.2)"
   ]
  },
  {
   "cell_type": "code",
   "execution_count": 7,
   "metadata": {},
   "outputs": [],
   "source": [
    "# data   visualize\n",
    "import matplotlib.pyplot as plt"
   ]
  },
  {
   "cell_type": "code",
   "execution_count": 12,
   "metadata": {},
   "outputs": [
    {
     "data": {
      "text/plain": [
       "<matplotlib.image.AxesImage at 0x7f6b8d10d2e8>"
      ]
     },
     "execution_count": 12,
     "metadata": {},
     "output_type": "execute_result"
    },
    {
     "data": {
      "image/png": "[encoded data removed]",
      "text/plain": [
       "<Figure size 432x288 with 1 Axes>"
      ]
     },
     "metadata": {
      "needs_background": "light"
     },
     "output_type": "display_data"
    }
   ],
   "source": [
    "plt.imshow(digit.images[4])"
   ]
  },
  {
   "cell_type": "code",
   "execution_count": 14,
   "metadata": {},
   "outputs": [],
   "source": [
    "# now calling svc\n",
    "from sklearn.svm  import SVC"
   ]
  },
  {
   "cell_type": "code",
   "execution_count": 15,
   "metadata": {},
   "outputs": [],
   "source": [
    "# calling clf\n",
    "clf=SVC()"
   ]
  },
  {
   "cell_type": "code",
   "execution_count": 17,
   "metadata": {},
   "outputs": [
    {
     "name": "stderr",
     "output_type": "stream",
     "text": [
      "/usr/local/lib/python3.6/dist-packages/sklearn/svm/base.py:193: FutureWarning: The default value of gamma will change from 'auto' to 'scale' in version 0.22 to account better for unscaled features. Set gamma explicitly to 'auto' or 'scale' to avoid this warning.\n",
      "  \"avoid this warning.\", FutureWarning)\n"
     ]
    }
   ],
   "source": [
    "# now training my clf\n",
    "trained=clf.fit(X,Y)"
   ]
  },
  {
   "cell_type": "code",
   "execution_count": 25,
   "metadata": {},
   "outputs": [],
   "source": [
    "# now time for prediction\n",
    "output=trained.predict(x)"
   ]
  },
  {
   "cell_type": "code",
   "execution_count": 21,
   "metadata": {},
   "outputs": [
    {
     "data": {
      "text/plain": [
       "array([0, 2, 6, ..., 4, 9, 1])"
      ]
     },
     "execution_count": 21,
     "metadata": {},
     "output_type": "execute_result"
    }
   ],
   "source": [
    "output"
   ]
  },
  {
   "cell_type": "code",
   "execution_count": 26,
   "metadata": {},
   "outputs": [
    {
     "data": {
      "text/plain": [
       "array([9, 3, 9, 5, 6, 8, 5, 2, 4, 2, 3, 4, 5, 3, 9, 9, 4, 7, 7, 6, 1, 2,\n",
       "       3, 4, 1, 0, 7, 0, 0, 7, 8, 4, 2, 8, 6, 7, 7, 8, 5, 1, 7, 9, 2, 4,\n",
       "       1, 6, 5, 0, 1, 5, 8, 3, 2, 9, 8, 7, 5, 7, 2, 5, 4, 0, 9, 3, 6, 6,\n",
       "       7, 1, 5, 4, 0, 0, 7, 9, 4, 7, 2, 1, 0, 5, 2, 8, 4, 1, 5, 7, 5, 5,\n",
       "       6, 4, 0, 6, 7, 3, 1, 8, 6, 4, 7, 3, 8, 0, 3, 7, 3, 9, 3, 6, 8, 2,\n",
       "       2, 6, 2, 4, 2, 4, 4, 7, 6, 4, 7, 0, 2, 1, 6, 1, 1, 3, 9, 9, 3, 3,\n",
       "       3, 2, 1, 1, 9, 2, 6, 0, 7, 1, 3, 1, 1, 2, 9, 9, 7, 2, 5, 1, 0, 2,\n",
       "       0, 2, 3, 4, 5, 9, 9, 9, 5, 9, 8, 6, 0, 1, 6, 6, 0, 4, 6, 7, 6, 5,\n",
       "       4, 6, 0, 6, 8, 1, 4, 3, 0, 5, 2, 1, 8, 1, 6, 6, 7, 7, 1, 9, 1, 9,\n",
       "       0, 6, 5, 4, 8, 1, 7, 5, 8, 5, 5, 2, 8, 4, 4, 4, 7, 4, 7, 2, 3, 9,\n",
       "       0, 2, 5, 6, 3, 4, 0, 1, 3, 3, 1, 3, 1, 4, 4, 4, 1, 5, 1, 9, 6, 9,\n",
       "       7, 2, 9, 9, 9, 3, 0, 1, 0, 3, 4, 6, 8, 1, 4, 0, 5, 3, 8, 6, 5, 6,\n",
       "       8, 6, 9, 6, 4, 5, 1, 2, 0, 0, 1, 2, 7, 0, 1, 7, 9, 9, 2, 7, 2, 2,\n",
       "       8, 7, 7, 2, 0, 0, 3, 0, 9, 8, 9, 6, 3, 6, 5, 3, 9, 9, 0, 5, 6, 5,\n",
       "       8, 7, 9, 7, 9, 6, 9, 4, 7, 4, 9, 7, 3, 6, 2, 2, 1, 9, 0, 5, 9, 0,\n",
       "       6, 3, 3, 8, 7, 1, 0, 7, 4, 3, 1, 5, 5, 1, 7, 2, 8, 3, 6, 3, 0, 9,\n",
       "       3, 9, 6, 0, 4, 0, 8, 3])"
      ]
     },
     "execution_count": 26,
     "metadata": {},
     "output_type": "execute_result"
    }
   ],
   "source": [
    "y"
   ]
  },
  {
   "cell_type": "code",
   "execution_count": 28,
   "metadata": {},
   "outputs": [],
   "source": [
    "from sklearn.metrics import accuracy_score"
   ]
  },
  {
   "cell_type": "code",
   "execution_count": 29,
   "metadata": {},
   "outputs": [
    {
     "data": {
      "text/plain": [
       "0.41944444444444445"
      ]
     },
     "execution_count": 29,
     "metadata": {},
     "output_type": "execute_result"
    }
   ],
   "source": [
    "accuracy_score(y,output)"
   ]
  },
  {
   "cell_type": "code",
   "execution_count": null,
   "metadata": {},
   "outputs": [],
   "source": []
  }
 ],
 "metadata": {
  "kernelspec": {
   "display_name": "Python 3",
   "language": "python",
   "name": "python3"
  },
  "language_info": {
   "codemirror_mode": {
    "name": "ipython",
    "version": 3
   },
   "file_extension": ".py",
   "mimetype": "text/x-python",
   "name": "python",
   "nbconvert_exporter": "python",
   "pygments_lexer": "ipython3",
   "version": "3.6.8"
  }
 },
 "nbformat": 4,
 "nbformat_minor": 2
}
