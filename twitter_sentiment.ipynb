{
 "cells": [
  {
   "cell_type": "code",
   "execution_count": 1,
   "metadata": {},
   "outputs": [],
   "source": [
    "#\n",
    "import tweepy\n",
    "import time\n",
    "import matplotlib.pyplot as plt\n",
    "from textblob import TextBlob"
   ]
  },
  {
   "cell_type": "code",
   "execution_count": 2,
   "metadata": {},
   "outputs": [],
   "source": [
    "#\n",
    "consumer_key='EqAbSpmDU3mY0IMZ7pFgLidyC'\n",
    "consumer_sec='q4fLrHDtjdLyjyoTA4OFAPTTVRkYKN0rHLaoXRP9kds6xZUwug'\n",
    "access_key= '1021784401649139712-EoWeDKwYzfCQHC7d36OIokXeCYrWac'\n",
    "access_sec= 'GhlH6ZNKgjshi7GLSzEBJI4LcbhY9x0BGxhWifNPbio0A'"
   ]
  },
  {
   "cell_type": "code",
   "execution_count": 3,
   "metadata": {},
   "outputs": [],
   "source": [
    "auth=tweepy.OAuthHandler(consumer_key,consumer_sec)"
   ]
  },
  {
   "cell_type": "code",
   "execution_count": 4,
   "metadata": {},
   "outputs": [],
   "source": [
    "auth.set_access_token(access_key,access_sec)"
   ]
  },
  {
   "cell_type": "code",
   "execution_count": 5,
   "metadata": {},
   "outputs": [],
   "source": [
    "api_connect = tweepy.API(auth)"
   ]
  },
  {
   "cell_type": "code",
   "execution_count": 28,
   "metadata": {},
   "outputs": [],
   "source": [
    "tweet_data = api_connect.search('iamdeepak06', count=20)"
   ]
  },
  {
   "cell_type": "code",
   "execution_count": 29,
   "metadata": {},
   "outputs": [
    {
     "name": "stdout",
     "output_type": "stream",
     "text": [
      "Sentiment(polarity=0.0, subjectivity=0.0)\n",
      "Neutral\n",
      "Sentiment(polarity=0.3, subjectivity=0.0)\n",
      "Positive\n",
      "Sentiment(polarity=0.13333333333333333, subjectivity=0.3833333333333333)\n",
      "Positive\n"
     ]
    }
   ],
   "source": [
    "pos = 0\n",
    "neg = 0\n",
    "neu = 0\n",
    "for tweet in tweet_data:\n",
    "    analysis = TextBlob(tweet.text)\n",
    "    print(analysis.sentiment)\n",
    "    if analysis.sentiment.polarity > 0:\n",
    "        print('Positive')\n",
    "        pos = pos + 1\n",
    "    elif analysis.sentiment.polarity < 0:\n",
    "        print('Negative')\n",
    "        neg = neg + 1\n",
    "    else:\n",
    "        print('Neutral')\n",
    "        neu = neu + 1"
   ]
  },
  {
   "cell_type": "code",
   "execution_count": 30,
   "metadata": {},
   "outputs": [
    {
     "data": {
      "image/png": "[encoded data removed]",
      "text/plain": [
       "<Figure size 432x288 with 1 Axes>"
      ]
     },
     "metadata": {
      "needs_background": "light"
     },
     "output_type": "display_data"
    },
    {
     "data": {
      "image/png": "[encoded data removed]",
      "text/plain": [
       "<Figure size 432x288 with 1 Axes>"
      ]
     },
     "metadata": {},
     "output_type": "display_data"
    }
   ],
   "source": [
    "plt.xlabel('Tags')\n",
    "plt.ylabel('Polarity')\n",
    "plt.bar(['pos','neg','neu'],[pos,neg,neu])\n",
    "plt.show()\n",
    "plt.pie([pos,neg,neu],labels=['pos','neg','neu'],autopct='%1.1f%%')\n",
    "plt.show()"
   ]
  },
  {
   "cell_type": "code",
   "execution_count": null,
   "metadata": {},
   "outputs": [],
   "source": []
  }
 ],
 "metadata": {
  "kernelspec": {
   "display_name": "Python 3",
   "language": "python",
   "name": "python3"
  },
  "language_info": {
   "codemirror_mode": {
    "name": "ipython",
    "version": 3
   },
   "file_extension": ".py",
   "mimetype": "text/x-python",
   "name": "python",
   "nbconvert_exporter": "python",
   "pygments_lexer": "ipython3",
   "version": "3.6.8"
  }
 },
 "nbformat": 4,
 "nbformat_minor": 2
}
